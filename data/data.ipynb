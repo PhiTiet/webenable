{
 "cells": [
  {
   "cell_type": "code",
   "execution_count": 24,
   "metadata": {},
   "outputs": [],
   "source": [
    "import pandas as pd"
   ]
  },
  {
   "cell_type": "code",
   "execution_count": 25,
   "metadata": {},
   "outputs": [],
   "source": [
    "df = pd.read_excel(\"power_2022.xlsx\")"
   ]
  },
  {
   "cell_type": "code",
   "execution_count": 26,
   "metadata": {},
   "outputs": [
    {
     "name": "stdout",
     "output_type": "stream",
     "text": [
      "<class 'pandas.core.frame.DataFrame'>\n",
      "RangeIndex: 35040 entries, 0 to 35039\n",
      "Data columns (total 6 columns):\n",
      " #   Column                 Non-Null Count  Dtype \n",
      "---  ------                 --------------  ----- \n",
      " 0   datum_tijd             35040 non-null  object\n",
      " 1   levering_normaal       16320 non-null  object\n",
      " 2   levering_laag          18719 non-null  object\n",
      " 3   teruglevering_normaal  16320 non-null  object\n",
      " 4   teruglevering_laag     18719 non-null  object\n",
      " 5   buitentemperatuur      35040 non-null  object\n",
      "dtypes: object(6)\n",
      "memory usage: 1.6+ MB\n"
     ]
    }
   ],
   "source": [
    "df.info()"
   ]
  },
  {
   "cell_type": "code",
   "execution_count": 27,
   "metadata": {},
   "outputs": [],
   "source": [
    "df.index = pd.to_datetime(df[\"datum_tijd\"], format=\"%d-%m-%Y %H:%M:%S\")"
   ]
  },
  {
   "cell_type": "code",
   "execution_count": 31,
   "metadata": {},
   "outputs": [],
   "source": [
    "df = df.drop(columns=\"datum_tijd\")"
   ]
  },
  {
   "cell_type": "code",
   "execution_count": 28,
   "metadata": {},
   "outputs": [],
   "source": [
    "df[\"levering_laag\"] = df[\"levering_laag\"].str.replace(\",\", \".\")\n",
    "df[\"levering_normaal\"] = df[\"levering_normaal\"].str.replace(\",\", \".\")\n",
    "df[\"teruglevering_laag\"] = df[\"teruglevering_laag\"].str.replace(\",\", \".\")\n",
    "df[\"teruglevering_normaal\"] = df[\"teruglevering_normaal\"].str.replace(\",\", \".\")"
   ]
  },
  {
   "cell_type": "code",
   "execution_count": 35,
   "metadata": {},
   "outputs": [],
   "source": [
    "df[\"levering_laag\"] = pd.to_numeric(df[\"levering_laag\"], errors=\"coerce\")\n",
    "df[\"levering_normaal\"] = pd.to_numeric(df[\"levering_normaal\"], errors=\"coerce\")\n",
    "df[\"teruglevering_laag\"] = pd.to_numeric(df[\"teruglevering_laag\"], errors=\"coerce\")\n",
    "df[\"teruglevering_normaal\"] = pd.to_numeric(df[\"teruglevering_normaal\"], errors=\"coerce\")"
   ]
  },
  {
   "cell_type": "code",
   "execution_count": 37,
   "metadata": {},
   "outputs": [],
   "source": [
    "df = df.drop(columns=\"buitentemperatuur\")"
   ]
  },
  {
   "cell_type": "code",
   "execution_count": 39,
   "metadata": {},
   "outputs": [],
   "source": [
    "df = df.fillna(0.0)"
   ]
  },
  {
   "cell_type": "code",
   "execution_count": 40,
   "metadata": {},
   "outputs": [],
   "source": [
    "df[\"levering\"] = df[\"levering_laag\"] + df[\"levering_normaal\"]\n",
    "df[\"teruglevering\"] = df[\"teruglevering_laag\"] + df[\"teruglevering_normaal\"]"
   ]
  },
  {
   "cell_type": "code",
   "execution_count": 42,
   "metadata": {},
   "outputs": [],
   "source": [
    "df = df.drop(columns=[\"levering_normaal\", \"levering_laag\", \"teruglevering_normaal\", \"teruglevering_laag\"])"
   ]
  },
  {
   "cell_type": "code",
   "execution_count": 45,
   "metadata": {},
   "outputs": [],
   "source": [
    "df[\"netto\"] = df[\"levering\"] - df[\"teruglevering\"]"
   ]
  },
  {
   "cell_type": "code",
   "execution_count": 47,
   "metadata": {},
   "outputs": [],
   "source": [
    "df.to_csv(\"data.csv\")"
   ]
  },
  {
   "cell_type": "code",
   "execution_count": 50,
   "metadata": {},
   "outputs": [],
   "source": [
    "df.index = df.index - pd.Timedelta(minutes=15)"
   ]
  },
  {
   "cell_type": "code",
   "execution_count": null,
   "metadata": {},
   "outputs": [],
   "source": [
    "df"
   ]
  },
  {
   "cell_type": "code",
   "execution_count": 53,
   "metadata": {},
   "outputs": [],
   "source": [
    "monthly = df.resample(\"MS\").sum()"
   ]
  },
  {
   "cell_type": "code",
   "execution_count": 57,
   "metadata": {},
   "outputs": [
    {
     "data": {
      "text/html": [
       "<div>\n",
       "<style scoped>\n",
       "    .dataframe tbody tr th:only-of-type {\n",
       "        vertical-align: middle;\n",
       "    }\n",
       "\n",
       "    .dataframe tbody tr th {\n",
       "        vertical-align: top;\n",
       "    }\n",
       "\n",
       "    .dataframe thead th {\n",
       "        text-align: right;\n",
       "    }\n",
       "</style>\n",
       "<table border=\"1\" class=\"dataframe\">\n",
       "  <thead>\n",
       "    <tr style=\"text-align: right;\">\n",
       "      <th></th>\n",
       "      <th>levering</th>\n",
       "      <th>teruglevering</th>\n",
       "      <th>netto</th>\n",
       "    </tr>\n",
       "    <tr>\n",
       "      <th>datum_tijd</th>\n",
       "      <th></th>\n",
       "      <th></th>\n",
       "      <th></th>\n",
       "    </tr>\n",
       "  </thead>\n",
       "  <tbody>\n",
       "    <tr>\n",
       "      <th>2022-01-01</th>\n",
       "      <td>592.01</td>\n",
       "      <td>34.04</td>\n",
       "      <td>557.97</td>\n",
       "    </tr>\n",
       "    <tr>\n",
       "      <th>2022-02-01</th>\n",
       "      <td>517.79</td>\n",
       "      <td>112.58</td>\n",
       "      <td>405.21</td>\n",
       "    </tr>\n",
       "    <tr>\n",
       "      <th>2022-03-01</th>\n",
       "      <td>421.84</td>\n",
       "      <td>395.83</td>\n",
       "      <td>26.01</td>\n",
       "    </tr>\n",
       "    <tr>\n",
       "      <th>2022-04-01</th>\n",
       "      <td>339.20</td>\n",
       "      <td>420.57</td>\n",
       "      <td>-81.37</td>\n",
       "    </tr>\n",
       "    <tr>\n",
       "      <th>2022-05-01</th>\n",
       "      <td>243.81</td>\n",
       "      <td>528.46</td>\n",
       "      <td>-284.65</td>\n",
       "    </tr>\n",
       "    <tr>\n",
       "      <th>2022-06-01</th>\n",
       "      <td>187.14</td>\n",
       "      <td>600.50</td>\n",
       "      <td>-413.36</td>\n",
       "    </tr>\n",
       "    <tr>\n",
       "      <th>2022-07-01</th>\n",
       "      <td>234.87</td>\n",
       "      <td>518.10</td>\n",
       "      <td>-283.23</td>\n",
       "    </tr>\n",
       "    <tr>\n",
       "      <th>2022-08-01</th>\n",
       "      <td>264.09</td>\n",
       "      <td>506.28</td>\n",
       "      <td>-242.19</td>\n",
       "    </tr>\n",
       "    <tr>\n",
       "      <th>2022-09-01</th>\n",
       "      <td>330.16</td>\n",
       "      <td>314.13</td>\n",
       "      <td>16.03</td>\n",
       "    </tr>\n",
       "    <tr>\n",
       "      <th>2022-10-01</th>\n",
       "      <td>432.19</td>\n",
       "      <td>165.98</td>\n",
       "      <td>266.21</td>\n",
       "    </tr>\n",
       "    <tr>\n",
       "      <th>2022-11-01</th>\n",
       "      <td>572.91</td>\n",
       "      <td>56.68</td>\n",
       "      <td>516.23</td>\n",
       "    </tr>\n",
       "    <tr>\n",
       "      <th>2022-12-01</th>\n",
       "      <td>727.56</td>\n",
       "      <td>24.44</td>\n",
       "      <td>703.12</td>\n",
       "    </tr>\n",
       "  </tbody>\n",
       "</table>\n",
       "</div>"
      ],
      "text/plain": [
       "            levering  teruglevering   netto\n",
       "datum_tijd                                 \n",
       "2022-01-01    592.01          34.04  557.97\n",
       "2022-02-01    517.79         112.58  405.21\n",
       "2022-03-01    421.84         395.83   26.01\n",
       "2022-04-01    339.20         420.57  -81.37\n",
       "2022-05-01    243.81         528.46 -284.65\n",
       "2022-06-01    187.14         600.50 -413.36\n",
       "2022-07-01    234.87         518.10 -283.23\n",
       "2022-08-01    264.09         506.28 -242.19\n",
       "2022-09-01    330.16         314.13   16.03\n",
       "2022-10-01    432.19         165.98  266.21\n",
       "2022-11-01    572.91          56.68  516.23\n",
       "2022-12-01    727.56          24.44  703.12"
      ]
     },
     "execution_count": 57,
     "metadata": {},
     "output_type": "execute_result"
    }
   ],
   "source": [
    "monthly"
   ]
  },
  {
   "cell_type": "code",
   "execution_count": 56,
   "metadata": {},
   "outputs": [
    {
     "data": {
      "text/html": [
       "<div>\n",
       "<style scoped>\n",
       "    .dataframe tbody tr th:only-of-type {\n",
       "        vertical-align: middle;\n",
       "    }\n",
       "\n",
       "    .dataframe tbody tr th {\n",
       "        vertical-align: top;\n",
       "    }\n",
       "\n",
       "    .dataframe thead th {\n",
       "        text-align: right;\n",
       "    }\n",
       "</style>\n",
       "<table border=\"1\" class=\"dataframe\">\n",
       "  <thead>\n",
       "    <tr style=\"text-align: right;\">\n",
       "      <th></th>\n",
       "      <th>levering</th>\n",
       "      <th>teruglevering</th>\n",
       "      <th>netto</th>\n",
       "    </tr>\n",
       "    <tr>\n",
       "      <th>datum_tijd</th>\n",
       "      <th></th>\n",
       "      <th></th>\n",
       "      <th></th>\n",
       "    </tr>\n",
       "  </thead>\n",
       "  <tbody>\n",
       "    <tr>\n",
       "      <th>2022-01-01</th>\n",
       "      <td>12.17</td>\n",
       "      <td>0.93</td>\n",
       "      <td>47.05</td>\n",
       "    </tr>\n",
       "    <tr>\n",
       "      <th>2022-02-01</th>\n",
       "      <td>10.65</td>\n",
       "      <td>3.06</td>\n",
       "      <td>34.17</td>\n",
       "    </tr>\n",
       "    <tr>\n",
       "      <th>2022-03-01</th>\n",
       "      <td>8.67</td>\n",
       "      <td>10.76</td>\n",
       "      <td>2.19</td>\n",
       "    </tr>\n",
       "    <tr>\n",
       "      <th>2022-04-01</th>\n",
       "      <td>6.97</td>\n",
       "      <td>11.44</td>\n",
       "      <td>-6.86</td>\n",
       "    </tr>\n",
       "    <tr>\n",
       "      <th>2022-05-01</th>\n",
       "      <td>5.01</td>\n",
       "      <td>14.37</td>\n",
       "      <td>-24.00</td>\n",
       "    </tr>\n",
       "    <tr>\n",
       "      <th>2022-06-01</th>\n",
       "      <td>3.85</td>\n",
       "      <td>16.33</td>\n",
       "      <td>-34.85</td>\n",
       "    </tr>\n",
       "    <tr>\n",
       "      <th>2022-07-01</th>\n",
       "      <td>4.83</td>\n",
       "      <td>14.09</td>\n",
       "      <td>-23.88</td>\n",
       "    </tr>\n",
       "    <tr>\n",
       "      <th>2022-08-01</th>\n",
       "      <td>5.43</td>\n",
       "      <td>13.77</td>\n",
       "      <td>-20.42</td>\n",
       "    </tr>\n",
       "    <tr>\n",
       "      <th>2022-09-01</th>\n",
       "      <td>6.79</td>\n",
       "      <td>8.54</td>\n",
       "      <td>1.35</td>\n",
       "    </tr>\n",
       "    <tr>\n",
       "      <th>2022-10-01</th>\n",
       "      <td>8.89</td>\n",
       "      <td>4.51</td>\n",
       "      <td>22.45</td>\n",
       "    </tr>\n",
       "    <tr>\n",
       "      <th>2022-11-01</th>\n",
       "      <td>11.78</td>\n",
       "      <td>1.54</td>\n",
       "      <td>43.53</td>\n",
       "    </tr>\n",
       "    <tr>\n",
       "      <th>2022-12-01</th>\n",
       "      <td>14.96</td>\n",
       "      <td>0.66</td>\n",
       "      <td>59.29</td>\n",
       "    </tr>\n",
       "  </tbody>\n",
       "</table>\n",
       "</div>"
      ],
      "text/plain": [
       "            levering  teruglevering  netto\n",
       "datum_tijd                                \n",
       "2022-01-01     12.17           0.93  47.05\n",
       "2022-02-01     10.65           3.06  34.17\n",
       "2022-03-01      8.67          10.76   2.19\n",
       "2022-04-01      6.97          11.44  -6.86\n",
       "2022-05-01      5.01          14.37 -24.00\n",
       "2022-06-01      3.85          16.33 -34.85\n",
       "2022-07-01      4.83          14.09 -23.88\n",
       "2022-08-01      5.43          13.77 -20.42\n",
       "2022-09-01      6.79           8.54   1.35\n",
       "2022-10-01      8.89           4.51  22.45\n",
       "2022-11-01     11.78           1.54  43.53\n",
       "2022-12-01     14.96           0.66  59.29"
      ]
     },
     "execution_count": 56,
     "metadata": {},
     "output_type": "execute_result"
    }
   ],
   "source": [
    "(monthly / monthly.sum() * 100).round(2)"
   ]
  }
 ],
 "metadata": {
  "kernelspec": {
   "display_name": "venv",
   "language": "python",
   "name": "python3"
  },
  "language_info": {
   "codemirror_mode": {
    "name": "ipython",
    "version": 3
   },
   "file_extension": ".py",
   "mimetype": "text/x-python",
   "name": "python",
   "nbconvert_exporter": "python",
   "pygments_lexer": "ipython3",
   "version": "3.11.3"
  },
  "orig_nbformat": 4
 },
 "nbformat": 4,
 "nbformat_minor": 2
}
