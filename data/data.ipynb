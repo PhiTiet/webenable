{
 "cells": [
  {
   "cell_type": "code",
   "execution_count": 27,
   "metadata": {},
   "outputs": [],
   "source": [
    "import pandas as pd"
   ]
  },
  {
   "cell_type": "code",
   "execution_count": 28,
   "metadata": {},
   "outputs": [],
   "source": [
    "df = pd.read_csv(\"data.csv\", index_col=0)\n",
    "df.index = pd.to_datetime(df.index)"
   ]
  },
  {
   "cell_type": "code",
   "execution_count": 29,
   "metadata": {},
   "outputs": [],
   "source": [
    "df.index = df.index - pd.Timedelta(minutes=15)"
   ]
  },
  {
   "cell_type": "code",
   "execution_count": 45,
   "metadata": {},
   "outputs": [],
   "source": [
    "monthly = df.resample(\"MS\").sum()"
   ]
  },
  {
   "cell_type": "code",
   "execution_count": 48,
   "metadata": {},
   "outputs": [],
   "source": [
    "monthly.index = monthly.index.month"
   ]
  },
  {
   "cell_type": "code",
   "execution_count": 50,
   "metadata": {},
   "outputs": [],
   "source": [
    "monthly.to_csv(\"monthly.csv\")"
   ]
  },
  {
   "cell_type": "code",
   "execution_count": 22,
   "metadata": {},
   "outputs": [],
   "source": [
    "dim = pd.Series(monthly.index.days_in_month, index=monthly.index)"
   ]
  },
  {
   "cell_type": "code",
   "execution_count": 25,
   "metadata": {},
   "outputs": [],
   "source": [
    "goals = monthly.div(dim, axis=0)"
   ]
  },
  {
   "cell_type": "code",
   "execution_count": 26,
   "metadata": {},
   "outputs": [],
   "source": [
    "goals.to_csv(\"goal_kwh.csv\")"
   ]
  },
  {
   "cell_type": "code",
   "execution_count": 56,
   "metadata": {},
   "outputs": [
    {
     "data": {
      "text/html": [
       "<div>\n",
       "<style scoped>\n",
       "    .dataframe tbody tr th:only-of-type {\n",
       "        vertical-align: middle;\n",
       "    }\n",
       "\n",
       "    .dataframe tbody tr th {\n",
       "        vertical-align: top;\n",
       "    }\n",
       "\n",
       "    .dataframe thead th {\n",
       "        text-align: right;\n",
       "    }\n",
       "</style>\n",
       "<table border=\"1\" class=\"dataframe\">\n",
       "  <thead>\n",
       "    <tr style=\"text-align: right;\">\n",
       "      <th></th>\n",
       "      <th>levering</th>\n",
       "      <th>teruglevering</th>\n",
       "      <th>netto</th>\n",
       "    </tr>\n",
       "    <tr>\n",
       "      <th>datum_tijd</th>\n",
       "      <th></th>\n",
       "      <th></th>\n",
       "      <th></th>\n",
       "    </tr>\n",
       "  </thead>\n",
       "  <tbody>\n",
       "    <tr>\n",
       "      <th>2022-01-01</th>\n",
       "      <td>12.17</td>\n",
       "      <td>0.93</td>\n",
       "      <td>47.05</td>\n",
       "    </tr>\n",
       "    <tr>\n",
       "      <th>2022-02-01</th>\n",
       "      <td>10.65</td>\n",
       "      <td>3.06</td>\n",
       "      <td>34.17</td>\n",
       "    </tr>\n",
       "    <tr>\n",
       "      <th>2022-03-01</th>\n",
       "      <td>8.67</td>\n",
       "      <td>10.76</td>\n",
       "      <td>2.19</td>\n",
       "    </tr>\n",
       "    <tr>\n",
       "      <th>2022-04-01</th>\n",
       "      <td>6.97</td>\n",
       "      <td>11.44</td>\n",
       "      <td>-6.86</td>\n",
       "    </tr>\n",
       "    <tr>\n",
       "      <th>2022-05-01</th>\n",
       "      <td>5.01</td>\n",
       "      <td>14.37</td>\n",
       "      <td>-24.00</td>\n",
       "    </tr>\n",
       "    <tr>\n",
       "      <th>2022-06-01</th>\n",
       "      <td>3.85</td>\n",
       "      <td>16.33</td>\n",
       "      <td>-34.85</td>\n",
       "    </tr>\n",
       "    <tr>\n",
       "      <th>2022-07-01</th>\n",
       "      <td>4.83</td>\n",
       "      <td>14.09</td>\n",
       "      <td>-23.88</td>\n",
       "    </tr>\n",
       "    <tr>\n",
       "      <th>2022-08-01</th>\n",
       "      <td>5.43</td>\n",
       "      <td>13.77</td>\n",
       "      <td>-20.42</td>\n",
       "    </tr>\n",
       "    <tr>\n",
       "      <th>2022-09-01</th>\n",
       "      <td>6.79</td>\n",
       "      <td>8.54</td>\n",
       "      <td>1.35</td>\n",
       "    </tr>\n",
       "    <tr>\n",
       "      <th>2022-10-01</th>\n",
       "      <td>8.89</td>\n",
       "      <td>4.51</td>\n",
       "      <td>22.45</td>\n",
       "    </tr>\n",
       "    <tr>\n",
       "      <th>2022-11-01</th>\n",
       "      <td>11.78</td>\n",
       "      <td>1.54</td>\n",
       "      <td>43.53</td>\n",
       "    </tr>\n",
       "    <tr>\n",
       "      <th>2022-12-01</th>\n",
       "      <td>14.96</td>\n",
       "      <td>0.66</td>\n",
       "      <td>59.29</td>\n",
       "    </tr>\n",
       "  </tbody>\n",
       "</table>\n",
       "</div>"
      ],
      "text/plain": [
       "            levering  teruglevering  netto\n",
       "datum_tijd                                \n",
       "2022-01-01     12.17           0.93  47.05\n",
       "2022-02-01     10.65           3.06  34.17\n",
       "2022-03-01      8.67          10.76   2.19\n",
       "2022-04-01      6.97          11.44  -6.86\n",
       "2022-05-01      5.01          14.37 -24.00\n",
       "2022-06-01      3.85          16.33 -34.85\n",
       "2022-07-01      4.83          14.09 -23.88\n",
       "2022-08-01      5.43          13.77 -20.42\n",
       "2022-09-01      6.79           8.54   1.35\n",
       "2022-10-01      8.89           4.51  22.45\n",
       "2022-11-01     11.78           1.54  43.53\n",
       "2022-12-01     14.96           0.66  59.29"
      ]
     },
     "execution_count": 56,
     "metadata": {},
     "output_type": "execute_result"
    }
   ],
   "source": [
    "(monthly / monthly.sum() * 100).round(2)"
   ]
  },
  {
   "cell_type": "code",
   "execution_count": 32,
   "metadata": {},
   "outputs": [],
   "source": [
    "sept = df.resample(\"H\").sum().loc[\"2022-09\"]"
   ]
  },
  {
   "cell_type": "code",
   "execution_count": 34,
   "metadata": {},
   "outputs": [],
   "source": [
    "sept.index = sept.index + pd.Timedelta(days=365)"
   ]
  },
  {
   "cell_type": "code",
   "execution_count": 36,
   "metadata": {},
   "outputs": [],
   "source": [
    "sept.to_csv(\"sept_hourly.csv\")"
   ]
  },
  {
   "cell_type": "code",
   "execution_count": 38,
   "metadata": {},
   "outputs": [],
   "source": [
    "sept.resample(\"D\").sum().to_csv(\"sept_daily.csv\")"
   ]
  },
  {
   "cell_type": "code",
   "execution_count": 40,
   "metadata": {},
   "outputs": [],
   "source": [
    "now = pd.Timestamp.now()\n",
    "start = now.floor(\"D\")\n",
    "end = now.floor(\"H\") - pd.Timedelta(hours=1)\n",
    "\n",
    "data = sept.loc[start:end, \"levering\"]"
   ]
  },
  {
   "cell_type": "code",
   "execution_count": 44,
   "metadata": {},
   "outputs": [
    {
     "data": {
      "text/plain": [
       "[(Timestamp('2023-09-14 00:00:00'), 0.56),\n",
       " (Timestamp('2023-09-14 01:00:00'), 0.39),\n",
       " (Timestamp('2023-09-14 02:00:00'), 0.38),\n",
       " (Timestamp('2023-09-14 03:00:00'), 0.31),\n",
       " (Timestamp('2023-09-14 04:00:00'), 0.33),\n",
       " (Timestamp('2023-09-14 05:00:00'), 0.41000000000000003),\n",
       " (Timestamp('2023-09-14 06:00:00'), 0.33),\n",
       " (Timestamp('2023-09-14 07:00:00'), 0.49),\n",
       " (Timestamp('2023-09-14 08:00:00'), 0.21000000000000002),\n",
       " (Timestamp('2023-09-14 09:00:00'), 0.0),\n",
       " (Timestamp('2023-09-14 10:00:00'), 0.0),\n",
       " (Timestamp('2023-09-14 11:00:00'), 0.04),\n",
       " (Timestamp('2023-09-14 12:00:00'), 0.0),\n",
       " (Timestamp('2023-09-14 13:00:00'), 0.0)]"
      ]
     },
     "execution_count": 44,
     "metadata": {},
     "output_type": "execute_result"
    }
   ],
   "source": [
    "list(data.items())"
   ]
  }
 ],
 "metadata": {
  "kernelspec": {
   "display_name": "venv",
   "language": "python",
   "name": "python3"
  },
  "language_info": {
   "codemirror_mode": {
    "name": "ipython",
    "version": 3
   },
   "file_extension": ".py",
   "mimetype": "text/x-python",
   "name": "python",
   "nbconvert_exporter": "python",
   "pygments_lexer": "ipython3",
   "version": "3.11.3"
  },
  "orig_nbformat": 4
 },
 "nbformat": 4,
 "nbformat_minor": 2
}
